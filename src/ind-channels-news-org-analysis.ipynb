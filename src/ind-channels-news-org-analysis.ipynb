{
 "cells": [
  {
   "cell_type": "markdown",
   "metadata": {},
   "source": [
    "# Classifying independent news&politics content creators and news organization channels"
   ]
  },
  {
   "cell_type": "code",
   "execution_count": 1,
   "metadata": {},
   "outputs": [],
   "source": [
    "import pandas as pd\n",
    "import matplotlib.pyplot as plt\n",
    "import seaborn as sns\n",
    "import numpy as np\n",
    "import sys \n",
    "import matplotlib.ticker as ticker\n",
    "import os\n",
    "import glob\n",
    "import plotly.graph_objects as go # install plotly if you dont have it\n",
    "np.set_printoptions(threshold=sys.maxsize)\n",
    "pd.set_option('display.max_colwidth', None)\n",
    "import re\n",
    "import statistics"
   ]
  },
  {
   "cell_type": "code",
   "execution_count": 2,
   "metadata": {},
   "outputs": [],
   "source": [
    "#remove parentheses and string between parentheses\n",
    "def remove_nested_parens(input_str):\n",
    "    \"\"\"Returns a copy of 'input_str' with any parenthesized text removed. Nested parentheses are handled.\"\"\"\n",
    "    result = ''\n",
    "    paren_level = 0\n",
    "    for ch in input_str:\n",
    "        if ch == '(':\n",
    "            paren_level += 1\n",
    "        elif (ch == ')') and paren_level:\n",
    "            paren_level -= 1\n",
    "        elif not paren_level:\n",
    "            result += ch\n",
    "    return result"
   ]
  },
  {
   "cell_type": "code",
   "execution_count": 3,
   "metadata": {},
   "outputs": [],
   "source": [
    "# Organize Mutiple datasets that contain major news organization Youtube channels USA\n",
    "df_news1 = pd.read_csv('../datasets/English news organisations/data_english_newsorgs.csv', engine ='python', sep ='\\;')\n",
    "df_news1['Publisher'] = df_news1['Publisher'].apply(remove_nested_parens)\n",
    "df_news1 = df_news1['Publisher']"
   ]
  },
  {
   "cell_type": "code",
   "execution_count": 4,
   "metadata": {},
   "outputs": [],
   "source": [
    "df_news2 = pd.read_csv('../datasets/English news organisations/news papers usa.csv', engine ='python', sep ='\\;')\n",
    "df_news2['Newspaper'] = df_news2['Newspaper'].apply(remove_nested_parens)\n",
    "df_news2 = df_news2['Newspaper']"
   ]
  },
  {
   "cell_type": "code",
   "execution_count": 5,
   "metadata": {},
   "outputs": [],
   "source": [
    "df_news3 = pd.read_csv('../datasets/English news organisations/indian media.csv', engine ='python', sep ='\\;')\n",
    "df_news3 = df_news3['Indian Media']"
   ]
  },
  {
   "cell_type": "code",
   "execution_count": 6,
   "metadata": {},
   "outputs": [],
   "source": [
    "df_news4 = pd.read_csv('../datasets/English news organisations/usa media.csv', engine ='python', sep ='\\;')\n",
    "df_news4 = df_news4['Media channels']"
   ]
  },
  {
   "cell_type": "code",
   "execution_count": 7,
   "metadata": {},
   "outputs": [],
   "source": [
    "df_news5 = pd.read_csv('../datasets/English news organisations/canadian media2.csv', engine ='python', sep ='\\;')\n",
    "df_news5 = df_news5['Canadian media']"
   ]
  },
  {
   "cell_type": "code",
   "execution_count": 8,
   "metadata": {},
   "outputs": [],
   "source": [
    "df_news6 = pd.read_csv('../datasets/English news organisations/tabloid.csv', engine ='python', sep ='\\;')\n",
    "df_news6 = df_news6['Tabloid']"
   ]
  },
  {
   "cell_type": "code",
   "execution_count": 9,
   "metadata": {},
   "outputs": [
    {
     "name": "stderr",
     "output_type": "stream",
     "text": [
      "<ipython-input-9-3ffc0bfd4959>:2: FutureWarning: The series.append method is deprecated and will be removed from pandas in a future version. Use pandas.concat instead.\n",
      "  df_news = pd.DataFrame(df_news1.append([df_news2, df_news3, df_news4, df_news5, df_news6],\n"
     ]
    }
   ],
   "source": [
    "# make one list of mainstream news organizations\n",
    "df_news = pd.DataFrame(df_news1.append([df_news2, df_news3, df_news4, df_news5, df_news6], \n",
    "                  ignore_index = True))\n",
    "df_news.drop_duplicates()\n",
    "df_news.rename(columns = {0:'mainstream news organizations'}, inplace = True)"
   ]
  },
  {
   "cell_type": "code",
   "execution_count": 10,
   "metadata": {},
   "outputs": [
    {
     "data": {
      "text/html": [
       "<div>\n",
       "<style scoped>\n",
       "    .dataframe tbody tr th:only-of-type {\n",
       "        vertical-align: middle;\n",
       "    }\n",
       "\n",
       "    .dataframe tbody tr th {\n",
       "        vertical-align: top;\n",
       "    }\n",
       "\n",
       "    .dataframe thead th {\n",
       "        text-align: right;\n",
       "    }\n",
       "</style>\n",
       "<table border=\"1\" class=\"dataframe\">\n",
       "  <thead>\n",
       "    <tr style=\"text-align: right;\">\n",
       "      <th></th>\n",
       "      <th>mainstream news organizations</th>\n",
       "    </tr>\n",
       "  </thead>\n",
       "  <tbody>\n",
       "    <tr>\n",
       "      <th>0</th>\n",
       "      <td>CNN</td>\n",
       "    </tr>\n",
       "    <tr>\n",
       "      <th>1</th>\n",
       "      <td>ABCNEWS</td>\n",
       "    </tr>\n",
       "    <tr>\n",
       "      <th>2</th>\n",
       "      <td>BBCNEWS</td>\n",
       "    </tr>\n",
       "    <tr>\n",
       "      <th>3</th>\n",
       "      <td>FOXNEWS</td>\n",
       "    </tr>\n",
       "    <tr>\n",
       "      <th>4</th>\n",
       "      <td>ALJAZEERA</td>\n",
       "    </tr>\n",
       "  </tbody>\n",
       "</table>\n",
       "</div>"
      ],
      "text/plain": [
       "  mainstream news organizations\n",
       "0                           CNN\n",
       "1                       ABCNEWS\n",
       "2                       BBCNEWS\n",
       "3                       FOXNEWS\n",
       "4                     ALJAZEERA"
      ]
     },
     "execution_count": 10,
     "metadata": {},
     "output_type": "execute_result"
    }
   ],
   "source": [
    "# make a copy to make the list upper case'\n",
    "temp1 = df_news.copy()\n",
    "temp1['mainstream news organizations'] = temp1['mainstream news organizations'].str.upper()\n",
    "temp1['mainstream news organizations'] = temp1['mainstream news organizations'].str.replace(' ','')\n",
    "temp1.head()"
   ]
  },
  {
   "cell_type": "code",
   "execution_count": 11,
   "metadata": {},
   "outputs": [
    {
     "data": {
      "text/html": [
       "<div>\n",
       "<style scoped>\n",
       "    .dataframe tbody tr th:only-of-type {\n",
       "        vertical-align: middle;\n",
       "    }\n",
       "\n",
       "    .dataframe tbody tr th {\n",
       "        vertical-align: top;\n",
       "    }\n",
       "\n",
       "    .dataframe thead th {\n",
       "        text-align: right;\n",
       "    }\n",
       "</style>\n",
       "<table border=\"1\" class=\"dataframe\">\n",
       "  <thead>\n",
       "    <tr style=\"text-align: right;\">\n",
       "      <th></th>\n",
       "      <th>category_cc</th>\n",
       "      <th>join_date</th>\n",
       "      <th>channel</th>\n",
       "      <th>name_cc</th>\n",
       "      <th>subscribers_cc</th>\n",
       "      <th>videos_cc</th>\n",
       "      <th>subscriber_rank_sb</th>\n",
       "      <th>weights</th>\n",
       "    </tr>\n",
       "  </thead>\n",
       "  <tbody>\n",
       "    <tr>\n",
       "      <th>0</th>\n",
       "      <td>Gaming</td>\n",
       "      <td>2010-04-29</td>\n",
       "      <td>UC-lHJZR3Gqxm24_Vd_AJ5Yw</td>\n",
       "      <td>PewDiePie</td>\n",
       "      <td>101000000</td>\n",
       "      <td>3956</td>\n",
       "      <td>3.0</td>\n",
       "      <td>2.087</td>\n",
       "    </tr>\n",
       "    <tr>\n",
       "      <th>1</th>\n",
       "      <td>Education</td>\n",
       "      <td>2006-09-01</td>\n",
       "      <td>UCbCmjCuTUZos6Inko4u57UQ</td>\n",
       "      <td>Cocomelon - Nursery ...</td>\n",
       "      <td>60100000</td>\n",
       "      <td>458</td>\n",
       "      <td>7.0</td>\n",
       "      <td>2.087</td>\n",
       "    </tr>\n",
       "    <tr>\n",
       "      <th>2</th>\n",
       "      <td>Entertainment</td>\n",
       "      <td>2006-09-20</td>\n",
       "      <td>UCpEhnqL0y41EpW2TvWAHD7Q</td>\n",
       "      <td>SET India</td>\n",
       "      <td>56018869</td>\n",
       "      <td>32661</td>\n",
       "      <td>8.0</td>\n",
       "      <td>2.087</td>\n",
       "    </tr>\n",
       "    <tr>\n",
       "      <th>3</th>\n",
       "      <td>Howto &amp; Style</td>\n",
       "      <td>2016-11-15</td>\n",
       "      <td>UC295-Dw_tDNtZXFeAPAW6Aw</td>\n",
       "      <td>5-Minute Crafts</td>\n",
       "      <td>60600000</td>\n",
       "      <td>3591</td>\n",
       "      <td>9.0</td>\n",
       "      <td>2.087</td>\n",
       "    </tr>\n",
       "    <tr>\n",
       "      <th>4</th>\n",
       "      <td>Sports</td>\n",
       "      <td>2007-05-11</td>\n",
       "      <td>UCJ5v_MCY6GNUBTO8-D3XoAg</td>\n",
       "      <td>WWE</td>\n",
       "      <td>48400000</td>\n",
       "      <td>43421</td>\n",
       "      <td>11.0</td>\n",
       "      <td>2.087</td>\n",
       "    </tr>\n",
       "  </tbody>\n",
       "</table>\n",
       "</div>"
      ],
      "text/plain": [
       "     category_cc   join_date                   channel  \\\n",
       "0         Gaming  2010-04-29  UC-lHJZR3Gqxm24_Vd_AJ5Yw   \n",
       "1      Education  2006-09-01  UCbCmjCuTUZos6Inko4u57UQ   \n",
       "2  Entertainment  2006-09-20  UCpEhnqL0y41EpW2TvWAHD7Q   \n",
       "3  Howto & Style  2016-11-15  UC295-Dw_tDNtZXFeAPAW6Aw   \n",
       "4         Sports  2007-05-11  UCJ5v_MCY6GNUBTO8-D3XoAg   \n",
       "\n",
       "                   name_cc  subscribers_cc  videos_cc  subscriber_rank_sb  \\\n",
       "0                PewDiePie       101000000       3956                 3.0   \n",
       "1  Cocomelon - Nursery ...        60100000        458                 7.0   \n",
       "2                SET India        56018869      32661                 8.0   \n",
       "3          5-Minute Crafts        60600000       3591                 9.0   \n",
       "4                      WWE        48400000      43421                11.0   \n",
       "\n",
       "   weights  \n",
       "0    2.087  \n",
       "1    2.087  \n",
       "2    2.087  \n",
       "3    2.087  \n",
       "4    2.087  "
      ]
     },
     "execution_count": 11,
     "metadata": {},
     "output_type": "execute_result"
    }
   ],
   "source": [
    "# Channels data set\n",
    "df_channels = pd.read_csv('../datasets/df_channels_en.tsv', compression=\"infer\", sep=\"\\t\")\n",
    "df_channels.head()"
   ]
  },
  {
   "cell_type": "code",
   "execution_count": 12,
   "metadata": {},
   "outputs": [],
   "source": [
    "# Keep channels that are in the category 'News & Politics'\n",
    "df_filtered_channels = df_channels[( df_channels['category_cc']=='News & Politics')]"
   ]
  },
  {
   "cell_type": "code",
   "execution_count": 13,
   "metadata": {},
   "outputs": [],
   "source": [
    "# Make a copy to make the column 'name_cc' upper case and remove white space\n",
    "temp2 = df_filtered_channels.copy()\n",
    "temp2['name_cc'] = temp2['name_cc'].str.upper()\n",
    "temp2['name_cc'] = temp2['name_cc'].str.replace(' ','')"
   ]
  },
  {
   "cell_type": "code",
   "execution_count": 14,
   "metadata": {},
   "outputs": [
    {
     "name": "stderr",
     "output_type": "stream",
     "text": [
      "<ipython-input-14-915472aad19d>:4: SettingWithCopyWarning: \n",
      "A value is trying to be set on a copy of a slice from a DataFrame.\n",
      "Try using .loc[row_indexer,col_indexer] = value instead\n",
      "\n",
      "See the caveats in the documentation: https://pandas.pydata.org/pandas-docs/stable/user_guide/indexing.html#returning-a-view-versus-a-copy\n",
      "  df_filtered_news_org['creator_type'] = \"news organization\"\n"
     ]
    },
    {
     "data": {
      "text/plain": [
       "62"
      ]
     },
     "execution_count": 14,
     "metadata": {},
     "output_type": "execute_result"
    }
   ],
   "source": [
    "# Create a DataFrame that only contains major new organizations data\n",
    "\n",
    "df_filtered_news_org = temp2[temp2['name_cc'].isin(temp1['mainstream news organizations'])]\n",
    "df_filtered_news_org['creator_type'] = \"news organization\"\n",
    "df_filtered_news_org.head()\n",
    "len(df_filtered_news_org)"
   ]
  },
  {
   "cell_type": "code",
   "execution_count": 15,
   "metadata": {},
   "outputs": [
    {
     "name": "stderr",
     "output_type": "stream",
     "text": [
      "<ipython-input-15-cc13cf2a1581>:3: SettingWithCopyWarning: \n",
      "A value is trying to be set on a copy of a slice from a DataFrame.\n",
      "Try using .loc[row_indexer,col_indexer] = value instead\n",
      "\n",
      "See the caveats in the documentation: https://pandas.pydata.org/pandas-docs/stable/user_guide/indexing.html#returning-a-view-versus-a-copy\n",
      "  df_filtered_news_ind['creator_type'] = \"independent\"\n"
     ]
    },
    {
     "data": {
      "text/html": [
       "<div>\n",
       "<style scoped>\n",
       "    .dataframe tbody tr th:only-of-type {\n",
       "        vertical-align: middle;\n",
       "    }\n",
       "\n",
       "    .dataframe tbody tr th {\n",
       "        vertical-align: top;\n",
       "    }\n",
       "\n",
       "    .dataframe thead th {\n",
       "        text-align: right;\n",
       "    }\n",
       "</style>\n",
       "<table border=\"1\" class=\"dataframe\">\n",
       "  <thead>\n",
       "    <tr style=\"text-align: right;\">\n",
       "      <th></th>\n",
       "      <th>category_cc</th>\n",
       "      <th>join_date</th>\n",
       "      <th>channel</th>\n",
       "      <th>name_cc</th>\n",
       "      <th>subscribers_cc</th>\n",
       "      <th>videos_cc</th>\n",
       "      <th>subscriber_rank_sb</th>\n",
       "      <th>weights</th>\n",
       "      <th>creator_type</th>\n",
       "    </tr>\n",
       "  </thead>\n",
       "  <tbody>\n",
       "    <tr>\n",
       "      <th>212</th>\n",
       "      <td>News &amp; Politics</td>\n",
       "      <td>2017-03-03</td>\n",
       "      <td>UCmphdqZNmqL72WJ2uyiNw5w</td>\n",
       "      <td>ABPNEWSHINDI</td>\n",
       "      <td>10800000</td>\n",
       "      <td>51298</td>\n",
       "      <td>340.0</td>\n",
       "      <td>2.087</td>\n",
       "      <td>independent</td>\n",
       "    </tr>\n",
       "    <tr>\n",
       "      <th>268</th>\n",
       "      <td>News &amp; Politics</td>\n",
       "      <td>2015-03-23</td>\n",
       "      <td>UCx8Z14PpntdaxCt2hakbQLQ</td>\n",
       "      <td>THELALLANTOP</td>\n",
       "      <td>9120000</td>\n",
       "      <td>9423</td>\n",
       "      <td>438.0</td>\n",
       "      <td>2.087</td>\n",
       "      <td>independent</td>\n",
       "    </tr>\n",
       "    <tr>\n",
       "      <th>402</th>\n",
       "      <td>News &amp; Politics</td>\n",
       "      <td>2009-08-08</td>\n",
       "      <td>UCj5RwDivLksanrNvkW0FB4w</td>\n",
       "      <td>GMAPUBLICAFFAIRS</td>\n",
       "      <td>6920000</td>\n",
       "      <td>20513</td>\n",
       "      <td>677.0</td>\n",
       "      <td>2.087</td>\n",
       "      <td>independent</td>\n",
       "    </tr>\n",
       "    <tr>\n",
       "      <th>510</th>\n",
       "      <td>News &amp; Politics</td>\n",
       "      <td>2006-06-23</td>\n",
       "      <td>UCfwx98Wty7LhdlkxL5PZyLA</td>\n",
       "      <td>BARCROFTTV</td>\n",
       "      <td>7110000</td>\n",
       "      <td>2375</td>\n",
       "      <td>888.0</td>\n",
       "      <td>2.087</td>\n",
       "      <td>independent</td>\n",
       "    </tr>\n",
       "    <tr>\n",
       "      <th>555</th>\n",
       "      <td>News &amp; Politics</td>\n",
       "      <td>2012-10-09</td>\n",
       "      <td>UC9k-yiEpRHMNVOnOi_aQK8w</td>\n",
       "      <td>INSIDEEDITION</td>\n",
       "      <td>6600000</td>\n",
       "      <td>18113</td>\n",
       "      <td>976.0</td>\n",
       "      <td>2.087</td>\n",
       "      <td>independent</td>\n",
       "    </tr>\n",
       "  </tbody>\n",
       "</table>\n",
       "</div>"
      ],
      "text/plain": [
       "         category_cc   join_date                   channel           name_cc  \\\n",
       "212  News & Politics  2017-03-03  UCmphdqZNmqL72WJ2uyiNw5w      ABPNEWSHINDI   \n",
       "268  News & Politics  2015-03-23  UCx8Z14PpntdaxCt2hakbQLQ      THELALLANTOP   \n",
       "402  News & Politics  2009-08-08  UCj5RwDivLksanrNvkW0FB4w  GMAPUBLICAFFAIRS   \n",
       "510  News & Politics  2006-06-23  UCfwx98Wty7LhdlkxL5PZyLA        BARCROFTTV   \n",
       "555  News & Politics  2012-10-09  UC9k-yiEpRHMNVOnOi_aQK8w     INSIDEEDITION   \n",
       "\n",
       "     subscribers_cc  videos_cc  subscriber_rank_sb  weights creator_type  \n",
       "212        10800000      51298               340.0    2.087  independent  \n",
       "268         9120000       9423               438.0    2.087  independent  \n",
       "402         6920000      20513               677.0    2.087  independent  \n",
       "510         7110000       2375               888.0    2.087  independent  \n",
       "555         6600000      18113               976.0    2.087  independent  "
      ]
     },
     "execution_count": 15,
     "metadata": {},
     "output_type": "execute_result"
    }
   ],
   "source": [
    "# Create a DataFrame that contains the rest(independent content creators)\n",
    "df_filtered_news_ind = temp2[~temp2['name_cc'].isin(temp1['mainstream news organizations'])]\n",
    "df_filtered_news_ind['creator_type'] = \"independent\"\n",
    "len(df_filtered_news_ind)\n",
    "df_filtered_news_ind.head()"
   ]
  },
  {
   "cell_type": "code",
   "execution_count": 16,
   "metadata": {},
   "outputs": [],
   "source": [
    "frames = [df_filtered_news_org, df_filtered_news_ind]"
   ]
  },
  {
   "cell_type": "code",
   "execution_count": 17,
   "metadata": {},
   "outputs": [
    {
     "data": {
      "text/html": [
       "<div>\n",
       "<style scoped>\n",
       "    .dataframe tbody tr th:only-of-type {\n",
       "        vertical-align: middle;\n",
       "    }\n",
       "\n",
       "    .dataframe tbody tr th {\n",
       "        vertical-align: top;\n",
       "    }\n",
       "\n",
       "    .dataframe thead th {\n",
       "        text-align: right;\n",
       "    }\n",
       "</style>\n",
       "<table border=\"1\" class=\"dataframe\">\n",
       "  <thead>\n",
       "    <tr style=\"text-align: right;\">\n",
       "      <th></th>\n",
       "      <th>category_cc</th>\n",
       "      <th>join_date</th>\n",
       "      <th>channel</th>\n",
       "      <th>name_cc</th>\n",
       "      <th>subscribers_cc</th>\n",
       "      <th>videos_cc</th>\n",
       "      <th>subscriber_rank_sb</th>\n",
       "      <th>weights</th>\n",
       "      <th>creator_type</th>\n",
       "    </tr>\n",
       "  </thead>\n",
       "  <tbody>\n",
       "    <tr>\n",
       "      <th>129</th>\n",
       "      <td>News &amp; Politics</td>\n",
       "      <td>2006-08-26</td>\n",
       "      <td>UCttspZesZIDEwwpVIgoZtWQ</td>\n",
       "      <td>INDIATV</td>\n",
       "      <td>15177282</td>\n",
       "      <td>139814</td>\n",
       "      <td>199.0</td>\n",
       "      <td>2.087</td>\n",
       "      <td>news organization</td>\n",
       "    </tr>\n",
       "    <tr>\n",
       "      <th>133</th>\n",
       "      <td>News &amp; Politics</td>\n",
       "      <td>2012-06-01</td>\n",
       "      <td>UCRWFSbif-RFENbBrSiez1DA</td>\n",
       "      <td>ABPNEWS</td>\n",
       "      <td>16274836</td>\n",
       "      <td>129027</td>\n",
       "      <td>207.0</td>\n",
       "      <td>2.087</td>\n",
       "      <td>news organization</td>\n",
       "    </tr>\n",
       "    <tr>\n",
       "      <th>337</th>\n",
       "      <td>News &amp; Politics</td>\n",
       "      <td>2007-06-19</td>\n",
       "      <td>UCIvaYmXn910QMdemBG3v1pQ</td>\n",
       "      <td>ZEENEWS</td>\n",
       "      <td>9280000</td>\n",
       "      <td>102648</td>\n",
       "      <td>549.0</td>\n",
       "      <td>2.087</td>\n",
       "      <td>news organization</td>\n",
       "    </tr>\n",
       "    <tr>\n",
       "      <th>425</th>\n",
       "      <td>News &amp; Politics</td>\n",
       "      <td>2005-10-02</td>\n",
       "      <td>UCupvZG-5ko_eiXAupbDfxWw</td>\n",
       "      <td>CNN</td>\n",
       "      <td>7500000</td>\n",
       "      <td>146299</td>\n",
       "      <td>720.0</td>\n",
       "      <td>2.087</td>\n",
       "      <td>news organization</td>\n",
       "    </tr>\n",
       "    <tr>\n",
       "      <th>527</th>\n",
       "      <td>News &amp; Politics</td>\n",
       "      <td>2014-03-04</td>\n",
       "      <td>UCLXo7UDZvByw2ixzpQCufnA</td>\n",
       "      <td>VOX</td>\n",
       "      <td>6570000</td>\n",
       "      <td>1048</td>\n",
       "      <td>924.0</td>\n",
       "      <td>2.087</td>\n",
       "      <td>news organization</td>\n",
       "    </tr>\n",
       "  </tbody>\n",
       "</table>\n",
       "</div>"
      ],
      "text/plain": [
       "         category_cc   join_date                   channel  name_cc  \\\n",
       "129  News & Politics  2006-08-26  UCttspZesZIDEwwpVIgoZtWQ  INDIATV   \n",
       "133  News & Politics  2012-06-01  UCRWFSbif-RFENbBrSiez1DA  ABPNEWS   \n",
       "337  News & Politics  2007-06-19  UCIvaYmXn910QMdemBG3v1pQ  ZEENEWS   \n",
       "425  News & Politics  2005-10-02  UCupvZG-5ko_eiXAupbDfxWw      CNN   \n",
       "527  News & Politics  2014-03-04  UCLXo7UDZvByw2ixzpQCufnA      VOX   \n",
       "\n",
       "     subscribers_cc  videos_cc  subscriber_rank_sb  weights       creator_type  \n",
       "129        15177282     139814               199.0    2.087  news organization  \n",
       "133        16274836     129027               207.0    2.087  news organization  \n",
       "337         9280000     102648               549.0    2.087  news organization  \n",
       "425         7500000     146299               720.0    2.087  news organization  \n",
       "527         6570000       1048               924.0    2.087  news organization  "
      ]
     },
     "execution_count": 17,
     "metadata": {},
     "output_type": "execute_result"
    }
   ],
   "source": [
    "df_filter_news_merge = pd.concat(frames)\n",
    "df_filter_news_merge.head()"
   ]
  },
  {
   "cell_type": "markdown",
   "metadata": {},
   "source": [
    "# Compare number of subscribers of independent creators and news organizations"
   ]
  },
  {
   "cell_type": "code",
   "execution_count": 18,
   "metadata": {},
   "outputs": [
    {
     "name": "stdout",
     "output_type": "stream",
     "text": [
      "1890000.0\n"
     ]
    }
   ],
   "source": [
    "# Compute median of subscribers and videos of top 30 channels from each category\n",
    "df_filtered_news_org_30 = df_filtered_news_org.sort_values('subscribers_cc', ascending = False).head(30)\n",
    "med_news_org = statistics.median(df_filtered_news_org_30['subscribers_cc'])\n",
    "print(med_news_org)"
   ]
  },
  {
   "cell_type": "code",
   "execution_count": 19,
   "metadata": {},
   "outputs": [
    {
     "name": "stdout",
     "output_type": "stream",
     "text": [
      "3975000.0\n"
     ]
    }
   ],
   "source": [
    "df_filtered_news_ind_30 = df_filtered_news_ind.sort_values('subscribers_cc', ascending = False).head(30)\n",
    "med_news_ind = statistics.median(df_filtered_news_ind_30['subscribers_cc'])\n",
    "print(med_news_ind)"
   ]
  },
  {
   "cell_type": "code",
   "execution_count": 20,
   "metadata": {},
   "outputs": [
    {
     "data": {
      "text/html": [
       "<div>\n",
       "<style scoped>\n",
       "    .dataframe tbody tr th:only-of-type {\n",
       "        vertical-align: middle;\n",
       "    }\n",
       "\n",
       "    .dataframe tbody tr th {\n",
       "        vertical-align: top;\n",
       "    }\n",
       "\n",
       "    .dataframe thead th {\n",
       "        text-align: right;\n",
       "    }\n",
       "</style>\n",
       "<table border=\"1\" class=\"dataframe\">\n",
       "  <thead>\n",
       "    <tr style=\"text-align: right;\">\n",
       "      <th></th>\n",
       "      <th>category_cc</th>\n",
       "      <th>join_date</th>\n",
       "      <th>channel</th>\n",
       "      <th>name_cc</th>\n",
       "      <th>subscribers_cc</th>\n",
       "      <th>videos_cc</th>\n",
       "      <th>subscriber_rank_sb</th>\n",
       "      <th>weights</th>\n",
       "      <th>creator_type</th>\n",
       "    </tr>\n",
       "  </thead>\n",
       "  <tbody>\n",
       "    <tr>\n",
       "      <th>133</th>\n",
       "      <td>News &amp; Politics</td>\n",
       "      <td>2012-06-01</td>\n",
       "      <td>UCRWFSbif-RFENbBrSiez1DA</td>\n",
       "      <td>ABPNEWS</td>\n",
       "      <td>16274836</td>\n",
       "      <td>129027</td>\n",
       "      <td>207.0</td>\n",
       "      <td>2.087</td>\n",
       "      <td>news organization</td>\n",
       "    </tr>\n",
       "    <tr>\n",
       "      <th>129</th>\n",
       "      <td>News &amp; Politics</td>\n",
       "      <td>2006-08-26</td>\n",
       "      <td>UCttspZesZIDEwwpVIgoZtWQ</td>\n",
       "      <td>INDIATV</td>\n",
       "      <td>15177282</td>\n",
       "      <td>139814</td>\n",
       "      <td>199.0</td>\n",
       "      <td>2.087</td>\n",
       "      <td>news organization</td>\n",
       "    </tr>\n",
       "    <tr>\n",
       "      <th>212</th>\n",
       "      <td>News &amp; Politics</td>\n",
       "      <td>2017-03-03</td>\n",
       "      <td>UCmphdqZNmqL72WJ2uyiNw5w</td>\n",
       "      <td>ABPNEWSHINDI</td>\n",
       "      <td>10800000</td>\n",
       "      <td>51298</td>\n",
       "      <td>340.0</td>\n",
       "      <td>2.087</td>\n",
       "      <td>independent</td>\n",
       "    </tr>\n",
       "    <tr>\n",
       "      <th>337</th>\n",
       "      <td>News &amp; Politics</td>\n",
       "      <td>2007-06-19</td>\n",
       "      <td>UCIvaYmXn910QMdemBG3v1pQ</td>\n",
       "      <td>ZEENEWS</td>\n",
       "      <td>9280000</td>\n",
       "      <td>102648</td>\n",
       "      <td>549.0</td>\n",
       "      <td>2.087</td>\n",
       "      <td>news organization</td>\n",
       "    </tr>\n",
       "    <tr>\n",
       "      <th>268</th>\n",
       "      <td>News &amp; Politics</td>\n",
       "      <td>2015-03-23</td>\n",
       "      <td>UCx8Z14PpntdaxCt2hakbQLQ</td>\n",
       "      <td>THELALLANTOP</td>\n",
       "      <td>9120000</td>\n",
       "      <td>9423</td>\n",
       "      <td>438.0</td>\n",
       "      <td>2.087</td>\n",
       "      <td>independent</td>\n",
       "    </tr>\n",
       "  </tbody>\n",
       "</table>\n",
       "</div>"
      ],
      "text/plain": [
       "         category_cc   join_date                   channel       name_cc  \\\n",
       "133  News & Politics  2012-06-01  UCRWFSbif-RFENbBrSiez1DA       ABPNEWS   \n",
       "129  News & Politics  2006-08-26  UCttspZesZIDEwwpVIgoZtWQ       INDIATV   \n",
       "212  News & Politics  2017-03-03  UCmphdqZNmqL72WJ2uyiNw5w  ABPNEWSHINDI   \n",
       "337  News & Politics  2007-06-19  UCIvaYmXn910QMdemBG3v1pQ       ZEENEWS   \n",
       "268  News & Politics  2015-03-23  UCx8Z14PpntdaxCt2hakbQLQ  THELALLANTOP   \n",
       "\n",
       "     subscribers_cc  videos_cc  subscriber_rank_sb  weights       creator_type  \n",
       "133        16274836     129027               207.0    2.087  news organization  \n",
       "129        15177282     139814               199.0    2.087  news organization  \n",
       "212        10800000      51298               340.0    2.087        independent  \n",
       "337         9280000     102648               549.0    2.087  news organization  \n",
       "268         9120000       9423               438.0    2.087        independent  "
      ]
     },
     "execution_count": 20,
     "metadata": {},
     "output_type": "execute_result"
    }
   ],
   "source": [
    "# What are the top 50 news channels in terms of subscribers? Weird that there are channels that don't produce english content\n",
    "df_filter_news_merge.sort_values('subscribers_cc', ascending = False).head()"
   ]
  },
  {
   "cell_type": "markdown",
   "metadata": {},
   "source": [
    "# Let's filter out channels that don't produce english content"
   ]
  },
  {
   "cell_type": "code",
   "execution_count": 21,
   "metadata": {},
   "outputs": [],
   "source": [
    "# A function that detects characters that don't exist in english\n",
    "def isEnglish(s):\n",
    "    try:\n",
    "        s.encode(encoding='utf-8').decode('ascii')\n",
    "    except UnicodeDecodeError:\n",
    "        return False\n",
    "    else:\n",
    "        return True"
   ]
  },
  {
   "cell_type": "code",
   "execution_count": 22,
   "metadata": {},
   "outputs": [
    {
     "data": {
      "text/plain": [
       "True"
      ]
     },
     "execution_count": 22,
     "metadata": {},
     "output_type": "execute_result"
    }
   ],
   "source": [
    "isEnglish(\"dkssud12$\")"
   ]
  },
  {
   "cell_type": "code",
   "execution_count": 23,
   "metadata": {},
   "outputs": [],
   "source": [
    "path = '../datasets/metadata_chunks/'\n",
    "file_list = os.listdir(path)"
   ]
  },
  {
   "cell_type": "code",
   "execution_count": 24,
   "metadata": {},
   "outputs": [],
   "source": [
    "os.chdir(path)"
   ]
  },
  {
   "cell_type": "code",
   "execution_count": 25,
   "metadata": {},
   "outputs": [
    {
     "name": "stdout",
     "output_type": "stream",
     "text": [
      "/Users/sylena/ada-2022-project-chromegoldfish/datasets/metadata_chunks\n"
     ]
    }
   ],
   "source": [
    "#list all csv files only\n",
    "print(os.getcwd())\n",
    "csv_files = glob.glob('*.csv.gz')"
   ]
  },
  {
   "cell_type": "code",
   "execution_count": 26,
   "metadata": {},
   "outputs": [
    {
     "name": "stderr",
     "output_type": "stream",
     "text": [
      "<ipython-input-26-68d5d8afa1ed>:12: FutureWarning: The frame.append method is deprecated and will be removed from pandas in a future version. Use pandas.concat instead.\n",
      "  df = df.append(df_temp, ignore_index=True)\n"
     ]
    },
    {
     "data": {
      "text/html": [
       "<div>\n",
       "<style scoped>\n",
       "    .dataframe tbody tr th:only-of-type {\n",
       "        vertical-align: middle;\n",
       "    }\n",
       "\n",
       "    .dataframe tbody tr th {\n",
       "        vertical-align: top;\n",
       "    }\n",
       "\n",
       "    .dataframe thead th {\n",
       "        text-align: right;\n",
       "    }\n",
       "</style>\n",
       "<table border=\"1\" class=\"dataframe\">\n",
       "  <thead>\n",
       "    <tr style=\"text-align: right;\">\n",
       "      <th></th>\n",
       "      <th>categories</th>\n",
       "      <th>channel_id</th>\n",
       "      <th>description</th>\n",
       "      <th>tags</th>\n",
       "      <th>title</th>\n",
       "      <th>upload_date</th>\n",
       "    </tr>\n",
       "  </thead>\n",
       "  <tbody>\n",
       "    <tr>\n",
       "      <th>0</th>\n",
       "      <td>News &amp; Politics</td>\n",
       "      <td>UCpYohGnVR-Z4kjysac0W7jA</td>\n",
       "      <td>CCTV does a story about online music lessons from http://ArtistWorks.com\\nfeaturing a student of fingerstyle guitarist Martin Taylor, classical guitarist Jason Vieaux, and ArtistWorks founder David Butler.\\n\\nJust like Mike from nearby Oakland, you can learn from masters, Martin Taylor and Jason Vieaux.\\n\\nArtistWorks Online Music Schools work like this:\\n1. Get a complete HD video library of  lessons, plus tabs, notation and more\\nSubmit practice videos and get personalized Video Exchange™ feedback from the legendary instructors\\n2. Learn by watching the instructor's exchanges with other students\\n3. Get inspiration from a worldwide community of enthusiastic players working together with the instructor\\n\\nThe ArtistWorks Music Campus includes instructions in jazz, acoustic, electric guitars, electric bass, bluegrass instruments, and several classical instruments. All the schools are instructed by famous musicians from major symphonies, such as The Philadelphia Orchestra.\\n\\nAn access to these teachers and to hundreds of HD lessons for only about a dollar a day. Your satisfaction is guaranteed. Find out more and join today!</td>\n",
       "      <td>china central television,china,cctv,online music schools,online education,music education,music education online,artistworks,News,music lessons,martin taylor,david butler</td>\n",
       "      <td>China Central Television (CCTV): Online Music Lessons</td>\n",
       "      <td>2012-05-04 00:00:00</td>\n",
       "    </tr>\n",
       "    <tr>\n",
       "      <th>1</th>\n",
       "      <td>News &amp; Politics</td>\n",
       "      <td>UCpYHEAhSUx1hBn2SkvXvTrg</td>\n",
       "      <td>The artist, producer and founding member of Beastie Boys Mike D unveils the \"grown up theme park\" he has curated at MOCA in Los Angeles.\\nRead the full feature on NOWNESS: http://bit.ly/1h8ftVc\\n\\nWatch more art videos here: http://bit.ly/art-videos\\n_______________________________________\\n\\nSubscribe to NOWNESS here: http://bit.ly/youtube-nowness\\n\\nLike NOWNESS on Facebook: http://bit.ly/facebook-nowness\\nFollow NOWNESS on Twitter: http://bit.ly/twitter-nowness\\nDaily exclusives for the culturally curious:  http://bit.ly/nowness-com\\nBehind the scenes on Instagram: http://bit.ly/instagram-nowness\\nCurated stories on Tumblr: http://bit.ly/tumblr-nowness\\nInspiration on Pinterest: http://bit.ly/pinterest-nowness\\nStaff Picks on Vimeo: http://bit.ly/vimeo-nowness\\nFollow NOWNESS on Google+: http://bit.ly/google-nowness</td>\n",
       "      <td>Art,Music,Culture,Video,Raf Simons,USA,Los Angeles,Beastie Boys,Tom Sachs,MOCA,Mike Mills,Geffen Contemporary,Transmission LA,Mike D,Cory Arcangel,Avant/Garde Diaries,Roy Choi</td>\n",
       "      <td>Mike D in \"Transmission LA: AV Club\" by Joe Termini</td>\n",
       "      <td>2012-04-23 00:00:00</td>\n",
       "    </tr>\n",
       "    <tr>\n",
       "      <th>2</th>\n",
       "      <td>News &amp; Politics</td>\n",
       "      <td>UCpYFwrSRGSEmtv5SB0Ks-IA</td>\n",
       "      <td>Get creative in the way you #RESIST\\nThey don’t want you to realize your power.\\nSo use it.\\n\\nBLEEDING AMERICA is an original makeup look designed by AUDFACED. Originally created in 2016 shortly after the election of the 45th President of the United States. I held onto this footage through much procrastination thinking of a better time to post it … President’s Day … Columbus Day / Indigenous People’s Day … 4th of July (twice) but as the big Midterm Elections of 2018 came I realized this was the time. Whether it’s voting season or not, I hope this piece can continually inspire and remind you that you are part of this world and you have been given unique gifts that you can use to do good in creative ways.\\n\\nMuch love and light.\\n\\nAUD xo\\n\\n#AUDFACED #BLEEDINGAMERICA\\n\\nMUSIC is “Nightmare”\\nNEO FRANCE\\nUsed With Permission\\nhttps://soundcloud.com/neofrance/neo-nightmare\\nThank You!\\n\\nPlease check out my political music video CRYING LIBERTY, a story that explores Lady Liberty in a demented America, exploring her sunken worlds searching to find her voice, regain her crown and remember who she is.\\nProduced by AUDFACED + Risha Dee Films.\\n\\nWATCH “Crying Liberty” MUSIC VIDEO:\\nhttp://www.youtube.com/watch?v=-yg027-X7BY\\n\\nFREE DOWNLOAD\\n“Crying Liberty” SONG:\\nhttps://soundcloud.com/audfaced/crying-liberty\\n\\nAUDFACED LINKS\\n\\nI really like updating daily on Instagram.\\nhttps://www.instagram.com/audfaced\\n\\nMy Self Love Page, @ SPUNK MIND\\nIG: http://instagram.com/spunkmind/\\nFB: https://www.facebook.com/spunkmind\\n\\nTweeting makes me feel clever.\\nhttps://twitter.com/AUDFACED\\n\\nFacebook is kinda messy with the drama but classic.\\nhttp://facebook.com/audfaced\\n\\nMy Boujee Website\\nhttp://www.AUDFACED.com</td>\n",
       "      <td>bleeding,bleedin,america,resist,crying,liberty,political,politics,vote,inspirational,motivational,video,impeach,metoo,change,the,world,lightworker,lightworkers,self-love,selflove,self,love,makeup,tutorial,avant,garde,editorial,special,effects,FX,SFX,spunk,mind,AUDFACED,audfaced</td>\n",
       "      <td>Bleeding America | Makeup | #RESIST | AUDFACED</td>\n",
       "      <td>2018-11-07 00:00:00</td>\n",
       "    </tr>\n",
       "    <tr>\n",
       "      <th>3</th>\n",
       "      <td>News &amp; Politics</td>\n",
       "      <td>UCpY-Jh36a-OnIAgCYaLDgtg</td>\n",
       "      <td>THIS VIDEO WAS MADE A DAY AFTER THE KONY 2012 VIDEO WAS UPLOADED AND I DID NOT DO ANY RESEARCH ON IT. I AM TEARING UP IN THIS VIDEO FROM WHAT HAPPENED TO THOSE KIDS. I'm starting to have second thoughts about the video but I don't know for sure but I did not know that this did happened to many kids. So please stop with the hateful comments.\\n\\nI'm sorry I got some of my words mixed up.Before I filmed this video I watched the video again and put myself in the state of mind that I was one of those people trying to escape and seeing my brother that's trying to escape with me get murdered. I started tearing up and started to film. Here is the video you must see this...\\nhttp://www.youtube.com/watch?v=Y4MnpzG5Sqc\\nShare this video with your friends. They need to see this.\\n\\nThis video is to make Joseph Kony famous, not to celebrate him, but to raise support for his arrest and set a precedent for international justice.\\nPledge your support at http://bit.ly/konydonate\\n\\nI'm happy I can help by making this video. Tell others about Kony on Facebook Twitter or on anything...</td>\n",
       "      <td>SuperEliasTM,SETM,Kony,2012,get,Joseph,famous,KONY,LRA,justice,Lord's,Resistance,Army,Invisible,Children,new,film,documentary,central,africa,child,soldiers</td>\n",
       "      <td>Stop Kony Make Him Famous!</td>\n",
       "      <td>2012-03-06 00:00:00</td>\n",
       "    </tr>\n",
       "    <tr>\n",
       "      <th>4</th>\n",
       "      <td>News &amp; Politics</td>\n",
       "      <td>UCpXYmbe8jgD68NnvyeV6nUQ</td>\n",
       "      <td>downloaded from http://www.youtube.com/watch?v=Cw70FV0wdT0, this is an excerpt from 'Unauthorized Biography of Dick Cheney' by (apparently) the Canadian Broadcasting Corporation. it details how dick cheney, the secretary of defense (March 20, 1989 -- January 20, 1993), under bush sr, lied to the U.S., and the world about Saddam Hussein.</td>\n",
       "      <td>Gulf War (Event),History,Bush,9/11 lies</td>\n",
       "      <td>Gulf War I - Based on LIES! Excerpt from a CBC Documentary</td>\n",
       "      <td>2014-02-15 00:00:00</td>\n",
       "    </tr>\n",
       "  </tbody>\n",
       "</table>\n",
       "</div>"
      ],
      "text/plain": [
       "        categories                channel_id  \\\n",
       "0  News & Politics  UCpYohGnVR-Z4kjysac0W7jA   \n",
       "1  News & Politics  UCpYHEAhSUx1hBn2SkvXvTrg   \n",
       "2  News & Politics  UCpYFwrSRGSEmtv5SB0Ks-IA   \n",
       "3  News & Politics  UCpY-Jh36a-OnIAgCYaLDgtg   \n",
       "4  News & Politics  UCpXYmbe8jgD68NnvyeV6nUQ   \n",
       "\n",
       "                                                                                                                                                                                                                                                                                                                                                                                                                                                                                                                                                                                                                                                                                                                                                                                                                                                                                                                                                                                                                                                                                                                                                                                                                                                                                                                                                                                                                                                                                                                                                                                                                                                                                                                                                                                             description  \\\n",
       "0                                                                                                                                                                                                                                                                                                                                                                                                                                                                                                                                                                                                                  CCTV does a story about online music lessons from http://ArtistWorks.com\\nfeaturing a student of fingerstyle guitarist Martin Taylor, classical guitarist Jason Vieaux, and ArtistWorks founder David Butler.\\n\\nJust like Mike from nearby Oakland, you can learn from masters, Martin Taylor and Jason Vieaux.\\n\\nArtistWorks Online Music Schools work like this:\\n1. Get a complete HD video library of  lessons, plus tabs, notation and more\\nSubmit practice videos and get personalized Video Exchange™ feedback from the legendary instructors\\n2. Learn by watching the instructor's exchanges with other students\\n3. Get inspiration from a worldwide community of enthusiastic players working together with the instructor\\n\\nThe ArtistWorks Music Campus includes instructions in jazz, acoustic, electric guitars, electric bass, bluegrass instruments, and several classical instruments. All the schools are instructed by famous musicians from major symphonies, such as The Philadelphia Orchestra.\\n\\nAn access to these teachers and to hundreds of HD lessons for only about a dollar a day. Your satisfaction is guaranteed. Find out more and join today!   \n",
       "1                                                                                                                                                                                                                                                                                                                                                                                                                                                                                                                                                                                                                                                                                                                                                                                                                                                                                                                                         The artist, producer and founding member of Beastie Boys Mike D unveils the \"grown up theme park\" he has curated at MOCA in Los Angeles.\\nRead the full feature on NOWNESS: http://bit.ly/1h8ftVc\\n\\nWatch more art videos here: http://bit.ly/art-videos\\n_______________________________________\\n\\nSubscribe to NOWNESS here: http://bit.ly/youtube-nowness\\n\\nLike NOWNESS on Facebook: http://bit.ly/facebook-nowness\\nFollow NOWNESS on Twitter: http://bit.ly/twitter-nowness\\nDaily exclusives for the culturally curious:  http://bit.ly/nowness-com\\nBehind the scenes on Instagram: http://bit.ly/instagram-nowness\\nCurated stories on Tumblr: http://bit.ly/tumblr-nowness\\nInspiration on Pinterest: http://bit.ly/pinterest-nowness\\nStaff Picks on Vimeo: http://bit.ly/vimeo-nowness\\nFollow NOWNESS on Google+: http://bit.ly/google-nowness   \n",
       "2  Get creative in the way you #RESIST\\nThey don’t want you to realize your power.\\nSo use it.\\n\\nBLEEDING AMERICA is an original makeup look designed by AUDFACED. Originally created in 2016 shortly after the election of the 45th President of the United States. I held onto this footage through much procrastination thinking of a better time to post it … President’s Day … Columbus Day / Indigenous People’s Day … 4th of July (twice) but as the big Midterm Elections of 2018 came I realized this was the time. Whether it’s voting season or not, I hope this piece can continually inspire and remind you that you are part of this world and you have been given unique gifts that you can use to do good in creative ways.\\n\\nMuch love and light.\\n\\nAUD xo\\n\\n#AUDFACED #BLEEDINGAMERICA\\n\\nMUSIC is “Nightmare”\\nNEO FRANCE\\nUsed With Permission\\nhttps://soundcloud.com/neofrance/neo-nightmare\\nThank You!\\n\\nPlease check out my political music video CRYING LIBERTY, a story that explores Lady Liberty in a demented America, exploring her sunken worlds searching to find her voice, regain her crown and remember who she is.\\nProduced by AUDFACED + Risha Dee Films.\\n\\nWATCH “Crying Liberty” MUSIC VIDEO:\\nhttp://www.youtube.com/watch?v=-yg027-X7BY\\n\\nFREE DOWNLOAD\\n“Crying Liberty” SONG:\\nhttps://soundcloud.com/audfaced/crying-liberty\\n\\nAUDFACED LINKS\\n\\nI really like updating daily on Instagram.\\nhttps://www.instagram.com/audfaced\\n\\nMy Self Love Page, @ SPUNK MIND\\nIG: http://instagram.com/spunkmind/\\nFB: https://www.facebook.com/spunkmind\\n\\nTweeting makes me feel clever.\\nhttps://twitter.com/AUDFACED\\n\\nFacebook is kinda messy with the drama but classic.\\nhttp://facebook.com/audfaced\\n\\nMy Boujee Website\\nhttp://www.AUDFACED.com   \n",
       "3                                                                                                                                                                                                                                                                                                                                                                                                                                                                                                                                                                                                                                                                            THIS VIDEO WAS MADE A DAY AFTER THE KONY 2012 VIDEO WAS UPLOADED AND I DID NOT DO ANY RESEARCH ON IT. I AM TEARING UP IN THIS VIDEO FROM WHAT HAPPENED TO THOSE KIDS. I'm starting to have second thoughts about the video but I don't know for sure but I did not know that this did happened to many kids. So please stop with the hateful comments.\\n\\nI'm sorry I got some of my words mixed up.Before I filmed this video I watched the video again and put myself in the state of mind that I was one of those people trying to escape and seeing my brother that's trying to escape with me get murdered. I started tearing up and started to film. Here is the video you must see this...\\nhttp://www.youtube.com/watch?v=Y4MnpzG5Sqc\\nShare this video with your friends. They need to see this.\\n\\nThis video is to make Joseph Kony famous, not to celebrate him, but to raise support for his arrest and set a precedent for international justice.\\nPledge your support at http://bit.ly/konydonate\\n\\nI'm happy I can help by making this video. Tell others about Kony on Facebook Twitter or on anything...   \n",
       "4                                                                                                                                                                                                                                                                                                                                                                                                                                                                                                                                                                                                                                                                                                                                                                                                                                                                                                                                                                                                                                                                                                                                                                                                                                                                                                                                                                                                                                                     downloaded from http://www.youtube.com/watch?v=Cw70FV0wdT0, this is an excerpt from 'Unauthorized Biography of Dick Cheney' by (apparently) the Canadian Broadcasting Corporation. it details how dick cheney, the secretary of defense (March 20, 1989 -- January 20, 1993), under bush sr, lied to the U.S., and the world about Saddam Hussein.   \n",
       "\n",
       "                                                                                                                                                                                                                                                                                     tags  \\\n",
       "0                                                                                                              china central television,china,cctv,online music schools,online education,music education,music education online,artistworks,News,music lessons,martin taylor,david butler   \n",
       "1                                                                                                         Art,Music,Culture,Video,Raf Simons,USA,Los Angeles,Beastie Boys,Tom Sachs,MOCA,Mike Mills,Geffen Contemporary,Transmission LA,Mike D,Cory Arcangel,Avant/Garde Diaries,Roy Choi   \n",
       "2  bleeding,bleedin,america,resist,crying,liberty,political,politics,vote,inspirational,motivational,video,impeach,metoo,change,the,world,lightworker,lightworkers,self-love,selflove,self,love,makeup,tutorial,avant,garde,editorial,special,effects,FX,SFX,spunk,mind,AUDFACED,audfaced   \n",
       "3                                                                                                                             SuperEliasTM,SETM,Kony,2012,get,Joseph,famous,KONY,LRA,justice,Lord's,Resistance,Army,Invisible,Children,new,film,documentary,central,africa,child,soldiers   \n",
       "4                                                                                                                                                                                                                                                 Gulf War (Event),History,Bush,9/11 lies   \n",
       "\n",
       "                                                        title  \\\n",
       "0       China Central Television (CCTV): Online Music Lessons   \n",
       "1         Mike D in \"Transmission LA: AV Club\" by Joe Termini   \n",
       "2              Bleeding America | Makeup | #RESIST | AUDFACED   \n",
       "3                                  Stop Kony Make Him Famous!   \n",
       "4  Gulf War I - Based on LIES! Excerpt from a CBC Documentary   \n",
       "\n",
       "           upload_date  \n",
       "0  2012-05-04 00:00:00  \n",
       "1  2012-04-23 00:00:00  \n",
       "2  2018-11-07 00:00:00  \n",
       "3  2012-03-06 00:00:00  \n",
       "4  2014-02-15 00:00:00  "
      ]
     },
     "execution_count": 26,
     "metadata": {},
     "output_type": "execute_result"
    }
   ],
   "source": [
    "# only reads specific columns since not all information is necessary.\n",
    "# also only reads in subset of current dataframes since it is super massive\n",
    "df = pd.DataFrame()\n",
    "counter = 0\n",
    "\n",
    "# you can add more categories if we want to do more analysis. category acts as a filter when reading in the chunks of the json files\n",
    "category = ['News & Politics']\n",
    "#append all files together\n",
    "for file in csv_files:\n",
    "            df_temp = pd.read_csv(file, usecols = ['categories','channel_id', 'description', 'title', 'upload_date', 'tags'])\n",
    "            df_temp = df_temp[df_temp['categories'].isin(category)] # this will filter for only political channels now\n",
    "            df = df.append(df_temp, ignore_index=True)\n",
    "            counter += 1\n",
    "\n",
    "            # temporary loop stopper. When we do our final analysis we will run it on all metadata chunks\n",
    "            if counter == 1:\n",
    "                break\n",
    "df.head()"
   ]
  },
  {
   "cell_type": "code",
   "execution_count": 27,
   "metadata": {},
   "outputs": [],
   "source": [
    "# Removes duplicates of videos \n",
    "df_raw = df.drop_duplicates(subset=['title'])"
   ]
  },
  {
   "cell_type": "code",
   "execution_count": 28,
   "metadata": {},
   "outputs": [],
   "source": [
    "# Get the channel id's and convert it to a dictionary to get names\n",
    "channel_dict = dict(zip(df_channels.channel, df_channels.name_cc))"
   ]
  },
  {
   "cell_type": "code",
   "execution_count": 29,
   "metadata": {},
   "outputs": [],
   "source": [
    "# Remap the channel_id with the channel names to improve who said what in our trend analysis\n",
    "df = df_raw.replace({\"channel_id\": channel_dict})"
   ]
  },
  {
   "cell_type": "code",
   "execution_count": 30,
   "metadata": {},
   "outputs": [
    {
     "data": {
      "text/html": [
       "<div>\n",
       "<style scoped>\n",
       "    .dataframe tbody tr th:only-of-type {\n",
       "        vertical-align: middle;\n",
       "    }\n",
       "\n",
       "    .dataframe tbody tr th {\n",
       "        vertical-align: top;\n",
       "    }\n",
       "\n",
       "    .dataframe thead th {\n",
       "        text-align: right;\n",
       "    }\n",
       "</style>\n",
       "<table border=\"1\" class=\"dataframe\">\n",
       "  <thead>\n",
       "    <tr style=\"text-align: right;\">\n",
       "      <th></th>\n",
       "      <th>categories</th>\n",
       "      <th>channel_id</th>\n",
       "      <th>description</th>\n",
       "      <th>tags</th>\n",
       "      <th>title</th>\n",
       "      <th>upload_date</th>\n",
       "    </tr>\n",
       "  </thead>\n",
       "  <tbody>\n",
       "    <tr>\n",
       "      <th>0</th>\n",
       "      <td>News &amp; Politics</td>\n",
       "      <td>ArtistWorks</td>\n",
       "      <td>CCTV does a story about online music lessons from http://ArtistWorks.com\\nfeaturing a student of fingerstyle guitarist Martin Taylor, classical guitarist Jason Vieaux, and ArtistWorks founder David Butler.\\n\\nJust like Mike from nearby Oakland, you can learn from masters, Martin Taylor and Jason Vieaux.\\n\\nArtistWorks Online Music Schools work like this:\\n1. Get a complete HD video library of  lessons, plus tabs, notation and more\\nSubmit practice videos and get personalized Video Exchange™ feedback from the legendary instructors\\n2. Learn by watching the instructor's exchanges with other students\\n3. Get inspiration from a worldwide community of enthusiastic players working together with the instructor\\n\\nThe ArtistWorks Music Campus includes instructions in jazz, acoustic, electric guitars, electric bass, bluegrass instruments, and several classical instruments. All the schools are instructed by famous musicians from major symphonies, such as The Philadelphia Orchestra.\\n\\nAn access to these teachers and to hundreds of HD lessons for only about a dollar a day. Your satisfaction is guaranteed. Find out more and join today!</td>\n",
       "      <td>china central television,china,cctv,online music schools,online education,music education,music education online,artistworks,News,music lessons,martin taylor,david butler</td>\n",
       "      <td>China Central Television (CCTV): Online Music Lessons</td>\n",
       "      <td>2012-05-04 00:00:00</td>\n",
       "    </tr>\n",
       "    <tr>\n",
       "      <th>1</th>\n",
       "      <td>News &amp; Politics</td>\n",
       "      <td>NOWNESS</td>\n",
       "      <td>The artist, producer and founding member of Beastie Boys Mike D unveils the \"grown up theme park\" he has curated at MOCA in Los Angeles.\\nRead the full feature on NOWNESS: http://bit.ly/1h8ftVc\\n\\nWatch more art videos here: http://bit.ly/art-videos\\n_______________________________________\\n\\nSubscribe to NOWNESS here: http://bit.ly/youtube-nowness\\n\\nLike NOWNESS on Facebook: http://bit.ly/facebook-nowness\\nFollow NOWNESS on Twitter: http://bit.ly/twitter-nowness\\nDaily exclusives for the culturally curious:  http://bit.ly/nowness-com\\nBehind the scenes on Instagram: http://bit.ly/instagram-nowness\\nCurated stories on Tumblr: http://bit.ly/tumblr-nowness\\nInspiration on Pinterest: http://bit.ly/pinterest-nowness\\nStaff Picks on Vimeo: http://bit.ly/vimeo-nowness\\nFollow NOWNESS on Google+: http://bit.ly/google-nowness</td>\n",
       "      <td>Art,Music,Culture,Video,Raf Simons,USA,Los Angeles,Beastie Boys,Tom Sachs,MOCA,Mike Mills,Geffen Contemporary,Transmission LA,Mike D,Cory Arcangel,Avant/Garde Diaries,Roy Choi</td>\n",
       "      <td>Mike D in \"Transmission LA: AV Club\" by Joe Termini</td>\n",
       "      <td>2012-04-23 00:00:00</td>\n",
       "    </tr>\n",
       "    <tr>\n",
       "      <th>2</th>\n",
       "      <td>News &amp; Politics</td>\n",
       "      <td>AUDFACED</td>\n",
       "      <td>Get creative in the way you #RESIST\\nThey don’t want you to realize your power.\\nSo use it.\\n\\nBLEEDING AMERICA is an original makeup look designed by AUDFACED. Originally created in 2016 shortly after the election of the 45th President of the United States. I held onto this footage through much procrastination thinking of a better time to post it … President’s Day … Columbus Day / Indigenous People’s Day … 4th of July (twice) but as the big Midterm Elections of 2018 came I realized this was the time. Whether it’s voting season or not, I hope this piece can continually inspire and remind you that you are part of this world and you have been given unique gifts that you can use to do good in creative ways.\\n\\nMuch love and light.\\n\\nAUD xo\\n\\n#AUDFACED #BLEEDINGAMERICA\\n\\nMUSIC is “Nightmare”\\nNEO FRANCE\\nUsed With Permission\\nhttps://soundcloud.com/neofrance/neo-nightmare\\nThank You!\\n\\nPlease check out my political music video CRYING LIBERTY, a story that explores Lady Liberty in a demented America, exploring her sunken worlds searching to find her voice, regain her crown and remember who she is.\\nProduced by AUDFACED + Risha Dee Films.\\n\\nWATCH “Crying Liberty” MUSIC VIDEO:\\nhttp://www.youtube.com/watch?v=-yg027-X7BY\\n\\nFREE DOWNLOAD\\n“Crying Liberty” SONG:\\nhttps://soundcloud.com/audfaced/crying-liberty\\n\\nAUDFACED LINKS\\n\\nI really like updating daily on Instagram.\\nhttps://www.instagram.com/audfaced\\n\\nMy Self Love Page, @ SPUNK MIND\\nIG: http://instagram.com/spunkmind/\\nFB: https://www.facebook.com/spunkmind\\n\\nTweeting makes me feel clever.\\nhttps://twitter.com/AUDFACED\\n\\nFacebook is kinda messy with the drama but classic.\\nhttp://facebook.com/audfaced\\n\\nMy Boujee Website\\nhttp://www.AUDFACED.com</td>\n",
       "      <td>bleeding,bleedin,america,resist,crying,liberty,political,politics,vote,inspirational,motivational,video,impeach,metoo,change,the,world,lightworker,lightworkers,self-love,selflove,self,love,makeup,tutorial,avant,garde,editorial,special,effects,FX,SFX,spunk,mind,AUDFACED,audfaced</td>\n",
       "      <td>Bleeding America | Makeup | #RESIST | AUDFACED</td>\n",
       "      <td>2018-11-07 00:00:00</td>\n",
       "    </tr>\n",
       "    <tr>\n",
       "      <th>3</th>\n",
       "      <td>News &amp; Politics</td>\n",
       "      <td>SuperEliasTM</td>\n",
       "      <td>THIS VIDEO WAS MADE A DAY AFTER THE KONY 2012 VIDEO WAS UPLOADED AND I DID NOT DO ANY RESEARCH ON IT. I AM TEARING UP IN THIS VIDEO FROM WHAT HAPPENED TO THOSE KIDS. I'm starting to have second thoughts about the video but I don't know for sure but I did not know that this did happened to many kids. So please stop with the hateful comments.\\n\\nI'm sorry I got some of my words mixed up.Before I filmed this video I watched the video again and put myself in the state of mind that I was one of those people trying to escape and seeing my brother that's trying to escape with me get murdered. I started tearing up and started to film. Here is the video you must see this...\\nhttp://www.youtube.com/watch?v=Y4MnpzG5Sqc\\nShare this video with your friends. They need to see this.\\n\\nThis video is to make Joseph Kony famous, not to celebrate him, but to raise support for his arrest and set a precedent for international justice.\\nPledge your support at http://bit.ly/konydonate\\n\\nI'm happy I can help by making this video. Tell others about Kony on Facebook Twitter or on anything...</td>\n",
       "      <td>SuperEliasTM,SETM,Kony,2012,get,Joseph,famous,KONY,LRA,justice,Lord's,Resistance,Army,Invisible,Children,new,film,documentary,central,africa,child,soldiers</td>\n",
       "      <td>Stop Kony Make Him Famous!</td>\n",
       "      <td>2012-03-06 00:00:00</td>\n",
       "    </tr>\n",
       "    <tr>\n",
       "      <th>4</th>\n",
       "      <td>News &amp; Politics</td>\n",
       "      <td>Stop And Think</td>\n",
       "      <td>downloaded from http://www.youtube.com/watch?v=Cw70FV0wdT0, this is an excerpt from 'Unauthorized Biography of Dick Cheney' by (apparently) the Canadian Broadcasting Corporation. it details how dick cheney, the secretary of defense (March 20, 1989 -- January 20, 1993), under bush sr, lied to the U.S., and the world about Saddam Hussein.</td>\n",
       "      <td>Gulf War (Event),History,Bush,9/11 lies</td>\n",
       "      <td>Gulf War I - Based on LIES! Excerpt from a CBC Documentary</td>\n",
       "      <td>2014-02-15 00:00:00</td>\n",
       "    </tr>\n",
       "  </tbody>\n",
       "</table>\n",
       "</div>"
      ],
      "text/plain": [
       "        categories      channel_id  \\\n",
       "0  News & Politics     ArtistWorks   \n",
       "1  News & Politics         NOWNESS   \n",
       "2  News & Politics        AUDFACED   \n",
       "3  News & Politics    SuperEliasTM   \n",
       "4  News & Politics  Stop And Think   \n",
       "\n",
       "                                                                                                                                                                                                                                                                                                                                                                                                                                                                                                                                                                                                                                                                                                                                                                                                                                                                                                                                                                                                                                                                                                                                                                                                                                                                                                                                                                                                                                                                                                                                                                                                                                                                                                                                                                                             description  \\\n",
       "0                                                                                                                                                                                                                                                                                                                                                                                                                                                                                                                                                                                                                  CCTV does a story about online music lessons from http://ArtistWorks.com\\nfeaturing a student of fingerstyle guitarist Martin Taylor, classical guitarist Jason Vieaux, and ArtistWorks founder David Butler.\\n\\nJust like Mike from nearby Oakland, you can learn from masters, Martin Taylor and Jason Vieaux.\\n\\nArtistWorks Online Music Schools work like this:\\n1. Get a complete HD video library of  lessons, plus tabs, notation and more\\nSubmit practice videos and get personalized Video Exchange™ feedback from the legendary instructors\\n2. Learn by watching the instructor's exchanges with other students\\n3. Get inspiration from a worldwide community of enthusiastic players working together with the instructor\\n\\nThe ArtistWorks Music Campus includes instructions in jazz, acoustic, electric guitars, electric bass, bluegrass instruments, and several classical instruments. All the schools are instructed by famous musicians from major symphonies, such as The Philadelphia Orchestra.\\n\\nAn access to these teachers and to hundreds of HD lessons for only about a dollar a day. Your satisfaction is guaranteed. Find out more and join today!   \n",
       "1                                                                                                                                                                                                                                                                                                                                                                                                                                                                                                                                                                                                                                                                                                                                                                                                                                                                                                                                         The artist, producer and founding member of Beastie Boys Mike D unveils the \"grown up theme park\" he has curated at MOCA in Los Angeles.\\nRead the full feature on NOWNESS: http://bit.ly/1h8ftVc\\n\\nWatch more art videos here: http://bit.ly/art-videos\\n_______________________________________\\n\\nSubscribe to NOWNESS here: http://bit.ly/youtube-nowness\\n\\nLike NOWNESS on Facebook: http://bit.ly/facebook-nowness\\nFollow NOWNESS on Twitter: http://bit.ly/twitter-nowness\\nDaily exclusives for the culturally curious:  http://bit.ly/nowness-com\\nBehind the scenes on Instagram: http://bit.ly/instagram-nowness\\nCurated stories on Tumblr: http://bit.ly/tumblr-nowness\\nInspiration on Pinterest: http://bit.ly/pinterest-nowness\\nStaff Picks on Vimeo: http://bit.ly/vimeo-nowness\\nFollow NOWNESS on Google+: http://bit.ly/google-nowness   \n",
       "2  Get creative in the way you #RESIST\\nThey don’t want you to realize your power.\\nSo use it.\\n\\nBLEEDING AMERICA is an original makeup look designed by AUDFACED. Originally created in 2016 shortly after the election of the 45th President of the United States. I held onto this footage through much procrastination thinking of a better time to post it … President’s Day … Columbus Day / Indigenous People’s Day … 4th of July (twice) but as the big Midterm Elections of 2018 came I realized this was the time. Whether it’s voting season or not, I hope this piece can continually inspire and remind you that you are part of this world and you have been given unique gifts that you can use to do good in creative ways.\\n\\nMuch love and light.\\n\\nAUD xo\\n\\n#AUDFACED #BLEEDINGAMERICA\\n\\nMUSIC is “Nightmare”\\nNEO FRANCE\\nUsed With Permission\\nhttps://soundcloud.com/neofrance/neo-nightmare\\nThank You!\\n\\nPlease check out my political music video CRYING LIBERTY, a story that explores Lady Liberty in a demented America, exploring her sunken worlds searching to find her voice, regain her crown and remember who she is.\\nProduced by AUDFACED + Risha Dee Films.\\n\\nWATCH “Crying Liberty” MUSIC VIDEO:\\nhttp://www.youtube.com/watch?v=-yg027-X7BY\\n\\nFREE DOWNLOAD\\n“Crying Liberty” SONG:\\nhttps://soundcloud.com/audfaced/crying-liberty\\n\\nAUDFACED LINKS\\n\\nI really like updating daily on Instagram.\\nhttps://www.instagram.com/audfaced\\n\\nMy Self Love Page, @ SPUNK MIND\\nIG: http://instagram.com/spunkmind/\\nFB: https://www.facebook.com/spunkmind\\n\\nTweeting makes me feel clever.\\nhttps://twitter.com/AUDFACED\\n\\nFacebook is kinda messy with the drama but classic.\\nhttp://facebook.com/audfaced\\n\\nMy Boujee Website\\nhttp://www.AUDFACED.com   \n",
       "3                                                                                                                                                                                                                                                                                                                                                                                                                                                                                                                                                                                                                                                                            THIS VIDEO WAS MADE A DAY AFTER THE KONY 2012 VIDEO WAS UPLOADED AND I DID NOT DO ANY RESEARCH ON IT. I AM TEARING UP IN THIS VIDEO FROM WHAT HAPPENED TO THOSE KIDS. I'm starting to have second thoughts about the video but I don't know for sure but I did not know that this did happened to many kids. So please stop with the hateful comments.\\n\\nI'm sorry I got some of my words mixed up.Before I filmed this video I watched the video again and put myself in the state of mind that I was one of those people trying to escape and seeing my brother that's trying to escape with me get murdered. I started tearing up and started to film. Here is the video you must see this...\\nhttp://www.youtube.com/watch?v=Y4MnpzG5Sqc\\nShare this video with your friends. They need to see this.\\n\\nThis video is to make Joseph Kony famous, not to celebrate him, but to raise support for his arrest and set a precedent for international justice.\\nPledge your support at http://bit.ly/konydonate\\n\\nI'm happy I can help by making this video. Tell others about Kony on Facebook Twitter or on anything...   \n",
       "4                                                                                                                                                                                                                                                                                                                                                                                                                                                                                                                                                                                                                                                                                                                                                                                                                                                                                                                                                                                                                                                                                                                                                                                                                                                                                                                                                                                                                                                     downloaded from http://www.youtube.com/watch?v=Cw70FV0wdT0, this is an excerpt from 'Unauthorized Biography of Dick Cheney' by (apparently) the Canadian Broadcasting Corporation. it details how dick cheney, the secretary of defense (March 20, 1989 -- January 20, 1993), under bush sr, lied to the U.S., and the world about Saddam Hussein.   \n",
       "\n",
       "                                                                                                                                                                                                                                                                                     tags  \\\n",
       "0                                                                                                              china central television,china,cctv,online music schools,online education,music education,music education online,artistworks,News,music lessons,martin taylor,david butler   \n",
       "1                                                                                                         Art,Music,Culture,Video,Raf Simons,USA,Los Angeles,Beastie Boys,Tom Sachs,MOCA,Mike Mills,Geffen Contemporary,Transmission LA,Mike D,Cory Arcangel,Avant/Garde Diaries,Roy Choi   \n",
       "2  bleeding,bleedin,america,resist,crying,liberty,political,politics,vote,inspirational,motivational,video,impeach,metoo,change,the,world,lightworker,lightworkers,self-love,selflove,self,love,makeup,tutorial,avant,garde,editorial,special,effects,FX,SFX,spunk,mind,AUDFACED,audfaced   \n",
       "3                                                                                                                             SuperEliasTM,SETM,Kony,2012,get,Joseph,famous,KONY,LRA,justice,Lord's,Resistance,Army,Invisible,Children,new,film,documentary,central,africa,child,soldiers   \n",
       "4                                                                                                                                                                                                                                                 Gulf War (Event),History,Bush,9/11 lies   \n",
       "\n",
       "                                                        title  \\\n",
       "0       China Central Television (CCTV): Online Music Lessons   \n",
       "1         Mike D in \"Transmission LA: AV Club\" by Joe Termini   \n",
       "2              Bleeding America | Makeup | #RESIST | AUDFACED   \n",
       "3                                  Stop Kony Make Him Famous!   \n",
       "4  Gulf War I - Based on LIES! Excerpt from a CBC Documentary   \n",
       "\n",
       "           upload_date  \n",
       "0  2012-05-04 00:00:00  \n",
       "1  2012-04-23 00:00:00  \n",
       "2  2018-11-07 00:00:00  \n",
       "3  2012-03-06 00:00:00  \n",
       "4  2014-02-15 00:00:00  "
      ]
     },
     "execution_count": 30,
     "metadata": {},
     "output_type": "execute_result"
    }
   ],
   "source": [
    "df.head()"
   ]
  },
  {
   "cell_type": "code",
   "execution_count": 31,
   "metadata": {},
   "outputs": [],
   "source": [
    "# Make a list of channels that contain non-english content\n",
    "non_eng_channels = []\n",
    "\n",
    "for index,row in df.iterrows():\n",
    "    if (isEnglish(str(row['description'])) == False) and (row['channel_id'] not in non_eng_channels):\n",
    "        non_eng_channels.append(row['channel_id'])\n"
   ]
  },
  {
   "cell_type": "code",
   "execution_count": 32,
   "metadata": {},
   "outputs": [
    {
     "name": "stdout",
     "output_type": "stream",
     "text": [
      "['ArtistWorks', 'AUDFACED', 'Stop And Think', 'The Star Online', 'Prem Nepali', 'National Geographic', 'Uphill Media', 'Heroes of the Storm']\n"
     ]
    }
   ],
   "source": [
    "print(non_eng_channels)"
   ]
  },
  {
   "cell_type": "code",
   "execution_count": 33,
   "metadata": {},
   "outputs": [],
   "source": [
    "df_ = df[~df['channel_id'].isin(non_eng_channels)]"
   ]
  },
  {
   "cell_type": "code",
   "execution_count": 34,
   "metadata": {},
   "outputs": [
    {
     "data": {
      "text/html": [
       "<div>\n",
       "<style scoped>\n",
       "    .dataframe tbody tr th:only-of-type {\n",
       "        vertical-align: middle;\n",
       "    }\n",
       "\n",
       "    .dataframe tbody tr th {\n",
       "        vertical-align: top;\n",
       "    }\n",
       "\n",
       "    .dataframe thead th {\n",
       "        text-align: right;\n",
       "    }\n",
       "</style>\n",
       "<table border=\"1\" class=\"dataframe\">\n",
       "  <thead>\n",
       "    <tr style=\"text-align: right;\">\n",
       "      <th></th>\n",
       "      <th>categories</th>\n",
       "      <th>channel_id</th>\n",
       "      <th>description</th>\n",
       "      <th>tags</th>\n",
       "      <th>title</th>\n",
       "      <th>upload_date</th>\n",
       "    </tr>\n",
       "  </thead>\n",
       "  <tbody>\n",
       "    <tr>\n",
       "      <th>1</th>\n",
       "      <td>News &amp; Politics</td>\n",
       "      <td>NOWNESS</td>\n",
       "      <td>The artist, producer and founding member of Beastie Boys Mike D unveils the \"grown up theme park\" he has curated at MOCA in Los Angeles.\\nRead the full feature on NOWNESS: http://bit.ly/1h8ftVc\\n\\nWatch more art videos here: http://bit.ly/art-videos\\n_______________________________________\\n\\nSubscribe to NOWNESS here: http://bit.ly/youtube-nowness\\n\\nLike NOWNESS on Facebook: http://bit.ly/facebook-nowness\\nFollow NOWNESS on Twitter: http://bit.ly/twitter-nowness\\nDaily exclusives for the culturally curious:  http://bit.ly/nowness-com\\nBehind the scenes on Instagram: http://bit.ly/instagram-nowness\\nCurated stories on Tumblr: http://bit.ly/tumblr-nowness\\nInspiration on Pinterest: http://bit.ly/pinterest-nowness\\nStaff Picks on Vimeo: http://bit.ly/vimeo-nowness\\nFollow NOWNESS on Google+: http://bit.ly/google-nowness</td>\n",
       "      <td>Art,Music,Culture,Video,Raf Simons,USA,Los Angeles,Beastie Boys,Tom Sachs,MOCA,Mike Mills,Geffen Contemporary,Transmission LA,Mike D,Cory Arcangel,Avant/Garde Diaries,Roy Choi</td>\n",
       "      <td>Mike D in \"Transmission LA: AV Club\" by Joe Termini</td>\n",
       "      <td>2012-04-23 00:00:00</td>\n",
       "    </tr>\n",
       "    <tr>\n",
       "      <th>3</th>\n",
       "      <td>News &amp; Politics</td>\n",
       "      <td>SuperEliasTM</td>\n",
       "      <td>THIS VIDEO WAS MADE A DAY AFTER THE KONY 2012 VIDEO WAS UPLOADED AND I DID NOT DO ANY RESEARCH ON IT. I AM TEARING UP IN THIS VIDEO FROM WHAT HAPPENED TO THOSE KIDS. I'm starting to have second thoughts about the video but I don't know for sure but I did not know that this did happened to many kids. So please stop with the hateful comments.\\n\\nI'm sorry I got some of my words mixed up.Before I filmed this video I watched the video again and put myself in the state of mind that I was one of those people trying to escape and seeing my brother that's trying to escape with me get murdered. I started tearing up and started to film. Here is the video you must see this...\\nhttp://www.youtube.com/watch?v=Y4MnpzG5Sqc\\nShare this video with your friends. They need to see this.\\n\\nThis video is to make Joseph Kony famous, not to celebrate him, but to raise support for his arrest and set a precedent for international justice.\\nPledge your support at http://bit.ly/konydonate\\n\\nI'm happy I can help by making this video. Tell others about Kony on Facebook Twitter or on anything...</td>\n",
       "      <td>SuperEliasTM,SETM,Kony,2012,get,Joseph,famous,KONY,LRA,justice,Lord's,Resistance,Army,Invisible,Children,new,film,documentary,central,africa,child,soldiers</td>\n",
       "      <td>Stop Kony Make Him Famous!</td>\n",
       "      <td>2012-03-06 00:00:00</td>\n",
       "    </tr>\n",
       "    <tr>\n",
       "      <th>25332</th>\n",
       "      <td>News &amp; Politics</td>\n",
       "      <td>ShadowRockZX</td>\n",
       "      <td>Keybladeofvenom generously made a little AD for our forum. It's not the best, but it's just a little something for now. We'll make a better one at a later time. ^_^\\nBy the way, if you do come and want to chat on the CB, well we have it set up to where guests can't talk on there until a Admin or Mod promotes them to member to prevent possible spam bots, so just wait for a Admin and PC them a request and we'll let you in.\\nAre you a fan of the mini series Rise Of The Shadows? Well we got the forum for you! Come over to the ROTS (Rise Of The Shadows) Legacy Area (RLA for short)!\\nWe got many interesting topics and discussions concerning the series. And you can even talk to the creators behind it! You can also suggest things you want to see in future episodes. But that's not all! We also have a nice little community where you can speak to others about your favorite MegaMan series or other video games or whatever! You may also post your own Patches, sprites, etc.\\nWe need more people to liven the place up, so come over and chill with us.\\nAnd if none of those reasons appeal to you..... You can come just to meet our forum clown: Javier! =D\\nAdmins: ShadowRockZX, Keybladeofvenom, Licentio Vesico (Saberman)\\nLink: http://s1.zetaboards.com/ROTS_Legacy_Area/index/\\n\\n\\n\\nFacebook:\\nhttps://www.facebook.com/ShadowRockZX\\nTwitter:\\nhttps://twitter.com/ShadowRockX\\nTwitch TV Channel:\\nhttp://www.twitch.tv/shadowrockzx T-Shirts! Merchandise Store:\\nhttp://shadowrockzx.spreadshirt.com Become a sponsor of our channel and get access to exclusive perks that you can read up on right here!: https://www.youtube.com/channel/UCpWJiLgoKfb9VUvcw8oyKeA/join</td>\n",
       "      <td>Advertisement,of,videos,Shadows,game,gaming,The,Rise</td>\n",
       "      <td>Rise Of The Shadows Legacy Area Advertisement</td>\n",
       "      <td>2010-04-18 00:00:00</td>\n",
       "    </tr>\n",
       "  </tbody>\n",
       "</table>\n",
       "</div>"
      ],
      "text/plain": [
       "            categories    channel_id  \\\n",
       "1      News & Politics       NOWNESS   \n",
       "3      News & Politics  SuperEliasTM   \n",
       "25332  News & Politics  ShadowRockZX   \n",
       "\n",
       "                                                                                                                                                                                                                                                                                                                                                                                                                                                                                                                                                                                                                                                                                                                                                                                                                                                                                                                                                                                                                                                                                                                                                                                                                                                                                                                                                                                                                                                                                                                                                                                                                                                                                                                        description  \\\n",
       "1                                                                                                                                                                                                                                                                                                                                                                                                                                                                                                                                                                                                                                                                                                                                                                                                                                                                    The artist, producer and founding member of Beastie Boys Mike D unveils the \"grown up theme park\" he has curated at MOCA in Los Angeles.\\nRead the full feature on NOWNESS: http://bit.ly/1h8ftVc\\n\\nWatch more art videos here: http://bit.ly/art-videos\\n_______________________________________\\n\\nSubscribe to NOWNESS here: http://bit.ly/youtube-nowness\\n\\nLike NOWNESS on Facebook: http://bit.ly/facebook-nowness\\nFollow NOWNESS on Twitter: http://bit.ly/twitter-nowness\\nDaily exclusives for the culturally curious:  http://bit.ly/nowness-com\\nBehind the scenes on Instagram: http://bit.ly/instagram-nowness\\nCurated stories on Tumblr: http://bit.ly/tumblr-nowness\\nInspiration on Pinterest: http://bit.ly/pinterest-nowness\\nStaff Picks on Vimeo: http://bit.ly/vimeo-nowness\\nFollow NOWNESS on Google+: http://bit.ly/google-nowness   \n",
       "3                                                                                                                                                                                                                                                                                                                                                                                                                                                                                                                                                                                                       THIS VIDEO WAS MADE A DAY AFTER THE KONY 2012 VIDEO WAS UPLOADED AND I DID NOT DO ANY RESEARCH ON IT. I AM TEARING UP IN THIS VIDEO FROM WHAT HAPPENED TO THOSE KIDS. I'm starting to have second thoughts about the video but I don't know for sure but I did not know that this did happened to many kids. So please stop with the hateful comments.\\n\\nI'm sorry I got some of my words mixed up.Before I filmed this video I watched the video again and put myself in the state of mind that I was one of those people trying to escape and seeing my brother that's trying to escape with me get murdered. I started tearing up and started to film. Here is the video you must see this...\\nhttp://www.youtube.com/watch?v=Y4MnpzG5Sqc\\nShare this video with your friends. They need to see this.\\n\\nThis video is to make Joseph Kony famous, not to celebrate him, but to raise support for his arrest and set a precedent for international justice.\\nPledge your support at http://bit.ly/konydonate\\n\\nI'm happy I can help by making this video. Tell others about Kony on Facebook Twitter or on anything...   \n",
       "25332  Keybladeofvenom generously made a little AD for our forum. It's not the best, but it's just a little something for now. We'll make a better one at a later time. ^_^\\nBy the way, if you do come and want to chat on the CB, well we have it set up to where guests can't talk on there until a Admin or Mod promotes them to member to prevent possible spam bots, so just wait for a Admin and PC them a request and we'll let you in.\\nAre you a fan of the mini series Rise Of The Shadows? Well we got the forum for you! Come over to the ROTS (Rise Of The Shadows) Legacy Area (RLA for short)!\\nWe got many interesting topics and discussions concerning the series. And you can even talk to the creators behind it! You can also suggest things you want to see in future episodes. But that's not all! We also have a nice little community where you can speak to others about your favorite MegaMan series or other video games or whatever! You may also post your own Patches, sprites, etc.\\nWe need more people to liven the place up, so come over and chill with us.\\nAnd if none of those reasons appeal to you..... You can come just to meet our forum clown: Javier! =D\\nAdmins: ShadowRockZX, Keybladeofvenom, Licentio Vesico (Saberman)\\nLink: http://s1.zetaboards.com/ROTS_Legacy_Area/index/\\n\\n\\n\\nFacebook:\\nhttps://www.facebook.com/ShadowRockZX\\nTwitter:\\nhttps://twitter.com/ShadowRockX\\nTwitch TV Channel:\\nhttp://www.twitch.tv/shadowrockzx T-Shirts! Merchandise Store:\\nhttp://shadowrockzx.spreadshirt.com Become a sponsor of our channel and get access to exclusive perks that you can read up on right here!: https://www.youtube.com/channel/UCpWJiLgoKfb9VUvcw8oyKeA/join   \n",
       "\n",
       "                                                                                                                                                                                  tags  \\\n",
       "1      Art,Music,Culture,Video,Raf Simons,USA,Los Angeles,Beastie Boys,Tom Sachs,MOCA,Mike Mills,Geffen Contemporary,Transmission LA,Mike D,Cory Arcangel,Avant/Garde Diaries,Roy Choi   \n",
       "3                          SuperEliasTM,SETM,Kony,2012,get,Joseph,famous,KONY,LRA,justice,Lord's,Resistance,Army,Invisible,Children,new,film,documentary,central,africa,child,soldiers   \n",
       "25332                                                                                                                             Advertisement,of,videos,Shadows,game,gaming,The,Rise   \n",
       "\n",
       "                                                     title  \\\n",
       "1      Mike D in \"Transmission LA: AV Club\" by Joe Termini   \n",
       "3                               Stop Kony Make Him Famous!   \n",
       "25332        Rise Of The Shadows Legacy Area Advertisement   \n",
       "\n",
       "               upload_date  \n",
       "1      2012-04-23 00:00:00  \n",
       "3      2012-03-06 00:00:00  \n",
       "25332  2010-04-18 00:00:00  "
      ]
     },
     "execution_count": 34,
     "metadata": {},
     "output_type": "execute_result"
    }
   ],
   "source": [
    "df_.head()"
   ]
  },
  {
   "cell_type": "code",
   "execution_count": null,
   "metadata": {},
   "outputs": [],
   "source": []
  }
 ],
 "metadata": {
  "kernelspec": {
   "display_name": "Python 3",
   "language": "python",
   "name": "python3"
  },
  "language_info": {
   "codemirror_mode": {
    "name": "ipython",
    "version": 3
   },
   "file_extension": ".py",
   "mimetype": "text/x-python",
   "name": "python",
   "nbconvert_exporter": "python",
   "pygments_lexer": "ipython3",
   "version": "3.8.5"
  }
 },
 "nbformat": 4,
 "nbformat_minor": 4
}
