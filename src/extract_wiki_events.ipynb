{
 "cells": [
  {
   "attachments": {},
   "cell_type": "markdown",
   "metadata": {},
   "source": [
    "## Extraction of data from [wiki article](https://en.wikipedia.org/wiki/Timeline_of_the_21st_century)\n",
    "\n",
    "Need to download the xml file on this [link](https://en.wikipedia.org/wiki/Special:Export/Timeline_of_the_21st_century)\n",
    "\n",
    "This notebook extract the events written on the wiki article: [*Timeline of the 21st century*](https://en.wikipedia.org/wiki/Timeline_of_the_21st_century) from its corresponding xml file (*datasets/wiki_events.xml*). It selects all events registered between 2005 and 2019 and save it as csv file in: *datasets/wiki_events.csv*. The following packages are needed:\n",
    "- ``` pip install pandas ```\n",
    "- ``` pip install beautifulsoup4 ```\n",
    "\n"
   ]
  },
  {
   "cell_type": "code",
   "execution_count": 2,
   "metadata": {},
   "outputs": [],
   "source": [
    "import pandas as pd\n",
    "from bs4 import BeautifulSoup"
   ]
  },
  {
   "cell_type": "code",
   "execution_count": 3,
   "metadata": {},
   "outputs": [],
   "source": [
    "path = '../datasets/wiki_events.xml'\n",
    "with open(path, 'r') as f:\n",
    "    data = f.read()\n",
    "\n",
    "Bs_data = BeautifulSoup(data, \"xml\")"
   ]
  },
  {
   "cell_type": "code",
   "execution_count": 4,
   "metadata": {},
   "outputs": [],
   "source": [
    "plain_txt = Bs_data.text\n",
    "idx = plain_txt.find('===[[2005]]===')\n",
    "text = plain_txt[idx:]"
   ]
  },
  {
   "cell_type": "code",
   "execution_count": 5,
   "metadata": {},
   "outputs": [],
   "source": [
    "text = text.replace('\\n\\n', '\\n')\n",
    "text = text.replace('[', '')\n",
    "text = text.replace(']', '')"
   ]
  },
  {
   "cell_type": "code",
   "execution_count": 6,
   "metadata": {},
   "outputs": [],
   "source": [
    "split_txt = text.split('\\n')"
   ]
  },
  {
   "cell_type": "code",
   "execution_count": 7,
   "metadata": {},
   "outputs": [],
   "source": [
    "copy_txt = split_txt.copy()\n",
    "new_list=[]\n",
    "for i,txt in enumerate(copy_txt):\n",
    "    if 'see' in txt:\n",
    "        continue\n",
    "    if 'See' in txt:\n",
    "        break\n",
    "    if  '2020s' in txt:\n",
    "        continue\n",
    "    if  '2010s' in txt:\n",
    "        continue\n",
    "    if '--' in txt:\n",
    "        continue\n",
    "    if '===' not in txt:\n",
    "        new_list.append(txt[2:])\n",
    "    else:\n",
    "        new_list.append(txt)"
   ]
  },
  {
   "cell_type": "code",
   "execution_count": 8,
   "metadata": {},
   "outputs": [],
   "source": [
    "list_months = [\"January\", \"February\", \"March\", \"April\", \"May\", \"June\", \"July\", \"August\", \"September\", \"October\", \"November\", \"December\"]"
   ]
  },
  {
   "cell_type": "code",
   "execution_count": 9,
   "metadata": {},
   "outputs": [],
   "source": [
    "list_tuples = []\n",
    "for i,element in enumerate(new_list):\n",
    "    month = ''\n",
    "    if '===' in element:\n",
    "        year = element[3:7]\n",
    "        continue\n",
    "    if any(month in element for month in list_months):\n",
    "        idx = element.find(':')\n",
    "        month = element[:idx]\n",
    "        element=element[idx+1:]\n",
    "    list_tuples.append((year,month, element))"
   ]
  },
  {
   "cell_type": "code",
   "execution_count": 10,
   "metadata": {},
   "outputs": [],
   "source": [
    "events_df = pd.DataFrame(list_tuples, columns =['Year','Day', 'Event'])"
   ]
  },
  {
   "cell_type": "code",
   "execution_count": 11,
   "metadata": {},
   "outputs": [],
   "source": [
    "events_df.to_csv('../datasets/wiki_events.csv')"
   ]
  }
 ],
 "metadata": {
  "kernelspec": {
   "display_name": "ada",
   "language": "python",
   "name": "python3"
  },
  "language_info": {
   "codemirror_mode": {
    "name": "ipython",
    "version": 3
   },
   "file_extension": ".py",
   "mimetype": "text/x-python",
   "name": "python",
   "nbconvert_exporter": "python",
   "pygments_lexer": "ipython3",
   "version": "3.9.15"
  },
  "orig_nbformat": 4,
  "vscode": {
   "interpreter": {
    "hash": "b5abd2a442b4baa56d6e89b275ee4159a869fbd8c78b3f77f67a57ed7ec0d59f"
   }
  }
 },
 "nbformat": 4,
 "nbformat_minor": 2
}
