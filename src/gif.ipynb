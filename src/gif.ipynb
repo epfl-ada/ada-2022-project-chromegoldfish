{
 "cells": [
  {
   "cell_type": "markdown",
   "metadata": {},
   "source": [
    "# GIF Generating Notebook\n",
    "\n",
    "This notebook supplies the GIF generating notebook that helped construct our worldcloud gifs seen in the datastory. You will also need to install the following libraries if you did not use the ```environment.yml```:\n",
    "\n",
    "- ```pip install imageio```"
   ]
  },
  {
   "cell_type": "code",
   "execution_count": 1,
   "metadata": {},
   "outputs": [
    {
     "name": "stdout",
     "output_type": "stream",
     "text": [
      "2005_unigram.png\n",
      "2006_unigram.png\n",
      "2007_unigram.png\n",
      "2008_unigram.png\n"
     ]
    },
    {
     "name": "stderr",
     "output_type": "stream",
     "text": [
      "/var/folders/q3/z0pdr58n4bn46rs6tvs5t1y00000gn/T/ipykernel_75043/3078014973.py:17: DeprecationWarning: Starting with ImageIO v3 the behavior of this function will switch to that of iio.v3.imread. To keep the current behavior (and make this warning disappear) use `import imageio.v2 as imageio` or call `imageio.v2.imread` directly.\n",
      "  frames.append(imageio.imread(indir + \"/\" + filename))\n"
     ]
    },
    {
     "name": "stdout",
     "output_type": "stream",
     "text": [
      "2009_unigram.png\n",
      "2010_unigram.png\n",
      "2011_unigram.png\n",
      "2012_unigram.png\n",
      "2013_unigram.png\n",
      "2014_unigram.png\n",
      "2015_unigram.png\n",
      "2016_unigram.png\n",
      "2017_unigram.png\n",
      "2018_unigram.png\n"
     ]
    }
   ],
   "source": [
    "import imageio\n",
    "import os\n",
    "import sys\n",
    "\n",
    "if len(sys.argv) < 2:\n",
    "  print(\"Not enough args - add the full path\")\n",
    "\n",
    "# you need to change the indir from 'unigram', 'bigram', 'trigram'\n",
    "indir = '/Users/simonlee/ada-2022-project-chromegoldfish/datasets/figures/unigram'\n",
    "\n",
    "frames = []\n",
    "\n",
    "# Load each file into a list\n",
    "for root, dirs, filenames in os.walk(indir):\n",
    "  for filename in sorted(filenames):\n",
    "    if filename.endswith(\".png\"):\n",
    "        print(filename)\n",
    "        frames.append(imageio.imread(indir + \"/\" + filename))\n",
    "\n",
    "# Save them as frames into a gif: you need to change the indir from 'unigram', 'bigram', 'trigram'\n",
    "exportname = \"/Users/simonlee/ada-2022-project-chromegoldfish/unigram.gif\"\n",
    "kargs = { 'duration': 4 }\n",
    "imageio.mimsave(exportname, frames, 'GIF', **kargs)"
   ]
  }
 ],
 "metadata": {
  "kernelspec": {
   "display_name": "Python 3.9.13 ('ada')",
   "language": "python",
   "name": "python3"
  },
  "language_info": {
   "codemirror_mode": {
    "name": "ipython",
    "version": 3
   },
   "file_extension": ".py",
   "mimetype": "text/x-python",
   "name": "python",
   "nbconvert_exporter": "python",
   "pygments_lexer": "ipython3",
   "version": "3.9.13"
  },
  "orig_nbformat": 4,
  "vscode": {
   "interpreter": {
    "hash": "b47ca7d216b8a465b979ff7f012da33d157a8eca88a6176851bc787c68093159"
   }
  }
 },
 "nbformat": 4,
 "nbformat_minor": 2
}
